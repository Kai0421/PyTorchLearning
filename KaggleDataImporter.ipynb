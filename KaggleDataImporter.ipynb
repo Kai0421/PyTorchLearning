{
  "nbformat": 4,
  "nbformat_minor": 0,
  "metadata": {
    "colab": {
      "name": "KaggleDataImporter.ipynb",
      "provenance": [],
      "collapsed_sections": [],
      "mount_file_id": "1kB4koKIrQ_zZ8-Ys7sxmzZUmAjTUCbV6",
      "authorship_tag": "ABX9TyNKkHXd8T9fMWOtCKLxDJvR",
      "include_colab_link": true
    },
    "kernelspec": {
      "name": "python3",
      "display_name": "Python 3"
    }
  },
  "cells": [
    {
      "cell_type": "markdown",
      "metadata": {
        "id": "view-in-github",
        "colab_type": "text"
      },
      "source": [
        "<a href=\"https://colab.research.google.com/github/Kai0421/TensorFlowLearning/blob/main/KaggleDataImporter.ipynb\" target=\"_parent\"><img src=\"https://colab.research.google.com/assets/colab-badge.svg\" alt=\"Open In Colab\"/></a>"
      ]
    },
    {
      "cell_type": "markdown",
      "metadata": {
        "id": "2Ia09W-ssQzE"
      },
      "source": [
        "# Kaggle Data Importer Module\n"
      ]
    },
    {
      "cell_type": "code",
      "metadata": {
        "id": "JTra_4BAsoYr"
      },
      "source": [
        "class KaggleDataImporter:\n",
        "  def register():\n",
        "    !pip install -q kaggle\n",
        "    from google.colab import files\n",
        "    files.upload()\n",
        "\n",
        "    !mkdir ~/.kaggle\n",
        "    !cp kaggle.json ~/.kaggle/\n",
        "    !chmod 600 ~/.kaggle/kaggle.json\n",
        "\n",
        "  def download(dataset_path, kaggle_option):\n",
        "    dbset_name = dataset_path\n",
        "\n",
        "    if (dataset_path.find('/')):\n",
        "      split_path = dataset_path.split('/')\n",
        "      dbset_name = split_path[1]\n",
        "\n",
        "    # Construct Zip file name\n",
        "    zipped_name = dbset_name + '.zip'\n",
        "\n",
        "    # Download Dataset From kaggle\n",
        "    !kaggle $kaggle_option download $dataset_path\n",
        "\n",
        "    # Make dir and mv zip into folder\n",
        "    !mkdir -p $dataset_path\n",
        "    !unzip $zipped_name -d $dataset_path\n",
        "    !rm $zipped_name"
      ],
      "execution_count": 1,
      "outputs": []
    }
  ]
}