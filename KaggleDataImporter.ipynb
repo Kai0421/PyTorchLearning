{
  "nbformat": 4,
  "nbformat_minor": 0,
  "metadata": {
    "colab": {
      "name": "KaggleDataImporter.ipynb",
      "provenance": [],
      "collapsed_sections": [],
      "mount_file_id": "1kB4koKIrQ_zZ8-Ys7sxmzZUmAjTUCbV6",
      "authorship_tag": "ABX9TyNnuyYCtQrgsbxPcLE4U1+C",
      "include_colab_link": true
    },
    "kernelspec": {
      "name": "python3",
      "display_name": "Python 3"
    }
  },
  "cells": [
    {
      "cell_type": "markdown",
      "metadata": {
        "id": "view-in-github",
        "colab_type": "text"
      },
      "source": [
        "<a href=\"https://colab.research.google.com/github/Kai0421/TensorFlowLearning/blob/main/KaggleDataImporter.ipynb\" target=\"_parent\"><img src=\"https://colab.research.google.com/assets/colab-badge.svg\" alt=\"Open In Colab\"/></a>"
      ]
    },
    {
      "cell_type": "markdown",
      "metadata": {
        "id": "2Ia09W-ssQzE"
      },
      "source": [
        "# Kaggle Data Importer Module\n"
      ]
    },
    {
      "cell_type": "code",
      "metadata": {
        "id": "JTra_4BAsoYr"
      },
      "source": [
        "class KaggleDataImporter:\n",
        "  def register():\n",
        "    !pip install -q kaggle\n",
        "    from google.colab import files\n",
        "    files.upload()\n",
        "\n",
        "    !mkdir ~/.kaggle\n",
        "    !cp kaggle.json ~/.kaggle/\n",
        "    !chmod 600 ~/.kaggle/kaggle.json\n",
        "\n",
        "  def download(dataset_path, kaggle_option):\n",
        "    # Download Dataset From kaggle\n",
        "    !kaggle $kaggle_option download $dataset_path\n",
        "\n",
        "    # Make dir and mv zip into folder\n",
        "    !for f in *.zip; do unzip -d \"${f%*.zip}\" \"$f\"; done\n",
        "  "
      ],
      "execution_count": 2,
      "outputs": []
    }
  ]
}